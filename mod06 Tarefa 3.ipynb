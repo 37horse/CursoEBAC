{
 "cells": [
  {
   "cell_type": "markdown",
   "metadata": {},
   "source": [
    "# Módulo 6 tarefa 3\n",
    "\n",
    "#### 1) A base 'sinasc_RO_2019.csv' contém dados do sistema de nascidos vivos do DataSUS, cujo dicionário de dados está no arquivo 'Estrutura_SINASC_para_CD.pdf'. Carregue esse arquivo."
   ]
  },
  {
   "cell_type": "code",
   "execution_count": 1,
   "metadata": {},
   "outputs": [],
   "source": [
    "import pandas as pd\n",
    "import seaborn as sns\n",
    "import matplotlib.pyplot as plt"
   ]
  },
  {
   "cell_type": "code",
   "execution_count": 2,
   "metadata": {},
   "outputs": [
    {
     "data": {
      "text/html": [
       "<div>\n",
       "<style scoped>\n",
       "    .dataframe tbody tr th:only-of-type {\n",
       "        vertical-align: middle;\n",
       "    }\n",
       "\n",
       "    .dataframe tbody tr th {\n",
       "        vertical-align: top;\n",
       "    }\n",
       "\n",
       "    .dataframe thead th {\n",
       "        text-align: right;\n",
       "    }\n",
       "</style>\n",
       "<table border=\"1\" class=\"dataframe\">\n",
       "  <thead>\n",
       "    <tr style=\"text-align: right;\">\n",
       "      <th></th>\n",
       "      <th>ORIGEM</th>\n",
       "      <th>CODESTAB</th>\n",
       "      <th>CODMUNNASC</th>\n",
       "      <th>LOCNASC</th>\n",
       "      <th>IDADEMAE</th>\n",
       "      <th>ESTCIVMAE</th>\n",
       "      <th>ESCMAE</th>\n",
       "      <th>CODOCUPMAE</th>\n",
       "      <th>QTDFILVIVO</th>\n",
       "      <th>QTDFILMORT</th>\n",
       "      <th>...</th>\n",
       "      <th>KOTELCHUCK</th>\n",
       "      <th>CONTADOR</th>\n",
       "      <th>munResStatus</th>\n",
       "      <th>munResTipo</th>\n",
       "      <th>munResNome</th>\n",
       "      <th>munResUf</th>\n",
       "      <th>munResLat</th>\n",
       "      <th>munResLon</th>\n",
       "      <th>munResAlt</th>\n",
       "      <th>munResArea</th>\n",
       "    </tr>\n",
       "  </thead>\n",
       "  <tbody>\n",
       "    <tr>\n",
       "      <th>0</th>\n",
       "      <td>1</td>\n",
       "      <td>2679477.0</td>\n",
       "      <td>110001</td>\n",
       "      <td>1</td>\n",
       "      <td>19</td>\n",
       "      <td>5.0</td>\n",
       "      <td>8 a 11 anos</td>\n",
       "      <td>NaN</td>\n",
       "      <td>0.0</td>\n",
       "      <td>0.0</td>\n",
       "      <td>...</td>\n",
       "      <td>5</td>\n",
       "      <td>1</td>\n",
       "      <td>ATIVO</td>\n",
       "      <td>MUNIC</td>\n",
       "      <td>Alta Floresta D'Oeste</td>\n",
       "      <td>Rondônia</td>\n",
       "      <td>-11.93554</td>\n",
       "      <td>-61.99982</td>\n",
       "      <td>338.0</td>\n",
       "      <td>7067.025</td>\n",
       "    </tr>\n",
       "    <tr>\n",
       "      <th>1</th>\n",
       "      <td>1</td>\n",
       "      <td>2679477.0</td>\n",
       "      <td>110001</td>\n",
       "      <td>1</td>\n",
       "      <td>29</td>\n",
       "      <td>2.0</td>\n",
       "      <td>8 a 11 anos</td>\n",
       "      <td>999992.0</td>\n",
       "      <td>1.0</td>\n",
       "      <td>0.0</td>\n",
       "      <td>...</td>\n",
       "      <td>5</td>\n",
       "      <td>2</td>\n",
       "      <td>ATIVO</td>\n",
       "      <td>MUNIC</td>\n",
       "      <td>Alta Floresta D'Oeste</td>\n",
       "      <td>Rondônia</td>\n",
       "      <td>-11.93554</td>\n",
       "      <td>-61.99982</td>\n",
       "      <td>338.0</td>\n",
       "      <td>7067.025</td>\n",
       "    </tr>\n",
       "    <tr>\n",
       "      <th>2</th>\n",
       "      <td>1</td>\n",
       "      <td>2679477.0</td>\n",
       "      <td>110001</td>\n",
       "      <td>1</td>\n",
       "      <td>37</td>\n",
       "      <td>9.0</td>\n",
       "      <td>8 a 11 anos</td>\n",
       "      <td>513205.0</td>\n",
       "      <td>2.0</td>\n",
       "      <td>0.0</td>\n",
       "      <td>...</td>\n",
       "      <td>5</td>\n",
       "      <td>3</td>\n",
       "      <td>ATIVO</td>\n",
       "      <td>MUNIC</td>\n",
       "      <td>Alta Floresta D'Oeste</td>\n",
       "      <td>Rondônia</td>\n",
       "      <td>-11.93554</td>\n",
       "      <td>-61.99982</td>\n",
       "      <td>338.0</td>\n",
       "      <td>7067.025</td>\n",
       "    </tr>\n",
       "  </tbody>\n",
       "</table>\n",
       "<p>3 rows × 69 columns</p>\n",
       "</div>"
      ],
      "text/plain": [
       "   ORIGEM   CODESTAB  CODMUNNASC  LOCNASC  IDADEMAE  ESTCIVMAE       ESCMAE  \\\n",
       "0       1  2679477.0      110001        1        19        5.0  8 a 11 anos   \n",
       "1       1  2679477.0      110001        1        29        2.0  8 a 11 anos   \n",
       "2       1  2679477.0      110001        1        37        9.0  8 a 11 anos   \n",
       "\n",
       "   CODOCUPMAE  QTDFILVIVO  QTDFILMORT  ...  KOTELCHUCK CONTADOR munResStatus  \\\n",
       "0         NaN         0.0         0.0  ...           5        1        ATIVO   \n",
       "1    999992.0         1.0         0.0  ...           5        2        ATIVO   \n",
       "2    513205.0         2.0         0.0  ...           5        3        ATIVO   \n",
       "\n",
       "  munResTipo             munResNome  munResUf  munResLat munResLon  munResAlt  \\\n",
       "0      MUNIC  Alta Floresta D'Oeste  Rondônia  -11.93554 -61.99982      338.0   \n",
       "1      MUNIC  Alta Floresta D'Oeste  Rondônia  -11.93554 -61.99982      338.0   \n",
       "2      MUNIC  Alta Floresta D'Oeste  Rondônia  -11.93554 -61.99982      338.0   \n",
       "\n",
       "   munResArea  \n",
       "0    7067.025  \n",
       "1    7067.025  \n",
       "2    7067.025  \n",
       "\n",
       "[3 rows x 69 columns]"
      ]
     },
     "execution_count": 2,
     "metadata": {},
     "output_type": "execute_result"
    }
   ],
   "source": [
    "sinasc = pd.read_csv(\"b1abb33c4f.csv\")\n",
    "\n",
    "sinasc.head(3)"
   ]
  },
  {
   "cell_type": "markdown",
   "metadata": {},
   "source": [
    "#### 2) Categorize a variável APGAR5 conforme as seguintes quebras:\n",
    "\n",
    "- 0 a 3: 'asfixia grave'\n",
    "- 4 a 5: 'asfixia moderada'\n",
    "- 6 a 7: 'asfixia leve'\n",
    "- 8 a 10: 'normal'"
   ]
  },
  {
   "cell_type": "code",
   "execution_count": 3,
   "metadata": {},
   "outputs": [],
   "source": [
    "#sinasc['APGAR5'].dropna(inplace=True)"
   ]
  },
  {
   "cell_type": "code",
   "execution_count": 4,
   "metadata": {},
   "outputs": [],
   "source": [
    "categ_list = ['asfixia grave', 'asfixia moderada', 'asfixia leve', 'normal']\n",
    "\n",
    "series_categ = pd.cut(x=sinasc['APGAR5']\n",
    "                      ,labels = categ_list\n",
    "                      ,bins=[0,4,6,8,11]\n",
    "                      ,right=False)"
   ]
  },
  {
   "cell_type": "code",
   "execution_count": 11,
   "metadata": {},
   "outputs": [
    {
     "data": {
      "text/html": [
       "<div>\n",
       "<style scoped>\n",
       "    .dataframe tbody tr th:only-of-type {\n",
       "        vertical-align: middle;\n",
       "    }\n",
       "\n",
       "    .dataframe tbody tr th {\n",
       "        vertical-align: top;\n",
       "    }\n",
       "\n",
       "    .dataframe thead th {\n",
       "        text-align: right;\n",
       "    }\n",
       "</style>\n",
       "<table border=\"1\" class=\"dataframe\">\n",
       "  <thead>\n",
       "    <tr style=\"text-align: right;\">\n",
       "      <th></th>\n",
       "      <th>APGAR5</th>\n",
       "    </tr>\n",
       "  </thead>\n",
       "  <tbody>\n",
       "    <tr>\n",
       "      <th>0</th>\n",
       "      <td>normal</td>\n",
       "    </tr>\n",
       "    <tr>\n",
       "      <th>1</th>\n",
       "      <td>normal</td>\n",
       "    </tr>\n",
       "  </tbody>\n",
       "</table>\n",
       "</div>"
      ],
      "text/plain": [
       "   APGAR5\n",
       "0  normal\n",
       "1  normal"
      ]
     },
     "execution_count": 11,
     "metadata": {},
     "output_type": "execute_result"
    }
   ],
   "source": [
    "sinasc['APGAR5'] = series_categ\n",
    "sinasc[['APGAR5']].head(2)"
   ]
  },
  {
   "cell_type": "markdown",
   "metadata": {},
   "source": [
    "#### 3) Monte um gráfico comparando a distribuição de APGAR5 por sexo para cada grupo de tempo de gestação (GESTACAO)."
   ]
  },
  {
   "cell_type": "code",
   "execution_count": 8,
   "metadata": {},
   "outputs": [
    {
     "data": {
      "text/plain": [
       "array(['37 a 41 semanas', '42 semanas e mais', '32 a 36 semanas',\n",
       "       '22 a 27 semanas', '28 a 31 semanas', nan, 'Menos de 22 semanas'],\n",
       "      dtype=object)"
      ]
     },
     "execution_count": 8,
     "metadata": {},
     "output_type": "execute_result"
    }
   ],
   "source": [
    "sinasc['GESTACAO'].unique()"
   ]
  },
  {
   "cell_type": "code",
   "execution_count": 9,
   "metadata": {},
   "outputs": [],
   "source": [
    "gesta_unique = ['37 a 41 semanas', '42 semanas e mais', '32 a 36 semanas',\n",
    "               '22 a 27 semanas', '28 a 31 semanas', 'Menos de 22 semanas']"
   ]
  },
  {
   "cell_type": "code",
   "execution_count": 12,
   "metadata": {
    "scrolled": true
   },
   "outputs": [
    {
     "data": {
      "image/png": "[encoded data removed]",
      "text/plain": [
       "<Figure size 1224x720 with 6 Axes>"
      ]
     },
     "metadata": {
      "needs_background": "light"
     },
     "output_type": "display_data"
    }
   ],
   "source": [
    "fig, ax = plt.subplots(2,3, figsize=(17,10), constrained_layout=True )\n",
    "\n",
    "titulo = 0\n",
    "\n",
    "for row in [0,1]:\n",
    "    for colunm in [0,1,2]:\n",
    "        sns.countplot(ax= ax[row,colunm]\n",
    "        ,x='APGAR5'\n",
    "        ,data=sinasc[sinasc['GESTACAO'] == gesta_unique[titulo]]\n",
    "        ,hue='SEXO')\n",
    "        ax[row,colunm].set_title(gesta_unique[titulo])\n",
    "        ax[row,colunm].tick_params(axis='x', rotation=90)\n",
    "        titulo = titulo + 1\n",
    "\n",
    "        "
   ]
  },
  {
   "cell_type": "markdown",
   "metadata": {},
   "source": [
    "####  4) Monte uma tabela cruzada com APGAR5 nas colunas e GESTACAO nas linhas"
   ]
  },
  {
   "cell_type": "code",
   "execution_count": 13,
   "metadata": {},
   "outputs": [
    {
     "data": {
      "text/html": [
       "<div>\n",
       "<style scoped>\n",
       "    .dataframe tbody tr th:only-of-type {\n",
       "        vertical-align: middle;\n",
       "    }\n",
       "\n",
       "    .dataframe tbody tr th {\n",
       "        vertical-align: top;\n",
       "    }\n",
       "\n",
       "    .dataframe thead th {\n",
       "        text-align: right;\n",
       "    }\n",
       "</style>\n",
       "<table border=\"1\" class=\"dataframe\">\n",
       "  <thead>\n",
       "    <tr style=\"text-align: right;\">\n",
       "      <th>GESTACAO</th>\n",
       "      <th>22 a 27 semanas</th>\n",
       "      <th>28 a 31 semanas</th>\n",
       "      <th>32 a 36 semanas</th>\n",
       "      <th>37 a 41 semanas</th>\n",
       "      <th>42 semanas e mais</th>\n",
       "      <th>Menos de 22 semanas</th>\n",
       "    </tr>\n",
       "    <tr>\n",
       "      <th>APGAR5</th>\n",
       "      <th></th>\n",
       "      <th></th>\n",
       "      <th></th>\n",
       "      <th></th>\n",
       "      <th></th>\n",
       "      <th></th>\n",
       "    </tr>\n",
       "  </thead>\n",
       "  <tbody>\n",
       "    <tr>\n",
       "      <th>asfixia grave</th>\n",
       "      <td>21</td>\n",
       "      <td>3</td>\n",
       "      <td>8</td>\n",
       "      <td>33</td>\n",
       "      <td>1</td>\n",
       "      <td>2</td>\n",
       "    </tr>\n",
       "    <tr>\n",
       "      <th>asfixia moderada</th>\n",
       "      <td>1</td>\n",
       "      <td>12</td>\n",
       "      <td>19</td>\n",
       "      <td>28</td>\n",
       "      <td>1</td>\n",
       "      <td>0</td>\n",
       "    </tr>\n",
       "    <tr>\n",
       "      <th>asfixia leve</th>\n",
       "      <td>12</td>\n",
       "      <td>18</td>\n",
       "      <td>73</td>\n",
       "      <td>196</td>\n",
       "      <td>6</td>\n",
       "      <td>1</td>\n",
       "    </tr>\n",
       "    <tr>\n",
       "      <th>normal</th>\n",
       "      <td>51</td>\n",
       "      <td>129</td>\n",
       "      <td>2134</td>\n",
       "      <td>22266</td>\n",
       "      <td>690</td>\n",
       "      <td>4</td>\n",
       "    </tr>\n",
       "  </tbody>\n",
       "</table>\n",
       "</div>"
      ],
      "text/plain": [
       "GESTACAO          22 a 27 semanas  28 a 31 semanas  32 a 36 semanas  \\\n",
       "APGAR5                                                                \n",
       "asfixia grave                  21                3                8   \n",
       "asfixia moderada                1               12               19   \n",
       "asfixia leve                   12               18               73   \n",
       "normal                         51              129             2134   \n",
       "\n",
       "GESTACAO          37 a 41 semanas  42 semanas e mais  Menos de 22 semanas  \n",
       "APGAR5                                                                     \n",
       "asfixia grave                  33                  1                    2  \n",
       "asfixia moderada               28                  1                    0  \n",
       "asfixia leve                  196                  6                    1  \n",
       "normal                      22266                690                    4  "
      ]
     },
     "execution_count": 13,
     "metadata": {},
     "output_type": "execute_result"
    }
   ],
   "source": [
    "tab_cross = pd.crosstab(sinasc['APGAR5'], sinasc['GESTACAO'])\n",
    "tab_cross"
   ]
  },
  {
   "cell_type": "markdown",
   "metadata": {},
   "source": [
    "####  5) Da tabela cruzada do item anterior, calcule os percentuais de linha. Ou seja, a distribuição da variável APGAR5 para cada classe de GESTACAO dado."
   ]
  },
  {
   "cell_type": "code",
   "execution_count": 14,
   "metadata": {},
   "outputs": [],
   "source": [
    "f_relativa = tab_cross.div(tab_cross.sum(axis=1), axis=0)"
   ]
  },
  {
   "cell_type": "code",
   "execution_count": 15,
   "metadata": {},
   "outputs": [
    {
     "data": {
      "text/html": [
       "<div>\n",
       "<style scoped>\n",
       "    .dataframe tbody tr th:only-of-type {\n",
       "        vertical-align: middle;\n",
       "    }\n",
       "\n",
       "    .dataframe tbody tr th {\n",
       "        vertical-align: top;\n",
       "    }\n",
       "\n",
       "    .dataframe thead th {\n",
       "        text-align: right;\n",
       "    }\n",
       "</style>\n",
       "<table border=\"1\" class=\"dataframe\">\n",
       "  <thead>\n",
       "    <tr style=\"text-align: right;\">\n",
       "      <th>GESTACAO</th>\n",
       "      <th>22 a 27 semanas</th>\n",
       "      <th>28 a 31 semanas</th>\n",
       "      <th>32 a 36 semanas</th>\n",
       "      <th>37 a 41 semanas</th>\n",
       "      <th>42 semanas e mais</th>\n",
       "      <th>Menos de 22 semanas</th>\n",
       "    </tr>\n",
       "    <tr>\n",
       "      <th>APGAR5</th>\n",
       "      <th></th>\n",
       "      <th></th>\n",
       "      <th></th>\n",
       "      <th></th>\n",
       "      <th></th>\n",
       "      <th></th>\n",
       "    </tr>\n",
       "  </thead>\n",
       "  <tbody>\n",
       "    <tr>\n",
       "      <th>asfixia grave</th>\n",
       "      <td>0.308824</td>\n",
       "      <td>0.044118</td>\n",
       "      <td>0.117647</td>\n",
       "      <td>0.485294</td>\n",
       "      <td>0.014706</td>\n",
       "      <td>0.029412</td>\n",
       "    </tr>\n",
       "    <tr>\n",
       "      <th>asfixia moderada</th>\n",
       "      <td>0.016393</td>\n",
       "      <td>0.196721</td>\n",
       "      <td>0.311475</td>\n",
       "      <td>0.459016</td>\n",
       "      <td>0.016393</td>\n",
       "      <td>0.000000</td>\n",
       "    </tr>\n",
       "    <tr>\n",
       "      <th>asfixia leve</th>\n",
       "      <td>0.039216</td>\n",
       "      <td>0.058824</td>\n",
       "      <td>0.238562</td>\n",
       "      <td>0.640523</td>\n",
       "      <td>0.019608</td>\n",
       "      <td>0.003268</td>\n",
       "    </tr>\n",
       "    <tr>\n",
       "      <th>normal</th>\n",
       "      <td>0.002018</td>\n",
       "      <td>0.005104</td>\n",
       "      <td>0.084435</td>\n",
       "      <td>0.880984</td>\n",
       "      <td>0.027301</td>\n",
       "      <td>0.000158</td>\n",
       "    </tr>\n",
       "  </tbody>\n",
       "</table>\n",
       "</div>"
      ],
      "text/plain": [
       "GESTACAO          22 a 27 semanas  28 a 31 semanas  32 a 36 semanas  \\\n",
       "APGAR5                                                                \n",
       "asfixia grave            0.308824         0.044118         0.117647   \n",
       "asfixia moderada         0.016393         0.196721         0.311475   \n",
       "asfixia leve             0.039216         0.058824         0.238562   \n",
       "normal                   0.002018         0.005104         0.084435   \n",
       "\n",
       "GESTACAO          37 a 41 semanas  42 semanas e mais  Menos de 22 semanas  \n",
       "APGAR5                                                                     \n",
       "asfixia grave            0.485294           0.014706             0.029412  \n",
       "asfixia moderada         0.459016           0.016393             0.000000  \n",
       "asfixia leve             0.640523           0.019608             0.003268  \n",
       "normal                   0.880984           0.027301             0.000158  "
      ]
     },
     "execution_count": 15,
     "metadata": {},
     "output_type": "execute_result"
    }
   ],
   "source": [
    "f_relativa "
   ]
  },
  {
   "cell_type": "markdown",
   "metadata": {},
   "source": [
    "####  6) Os médicos costumam classificar parto prematuro quando a gestação tem menos que 37 semanas. Faça um gráfico de barras da tabela cruzada acima e conclua se você acha que este conjunto de dados corrobora ou não com a afirmação dos médicos."
   ]
  },
  {
   "cell_type": "code",
   "execution_count": 16,
   "metadata": {},
   "outputs": [
    {
     "data": {
      "text/plain": [
       "<AxesSubplot:xlabel='APGAR5'>"
      ]
     },
     "execution_count": 16,
     "metadata": {},
     "output_type": "execute_result"
    },
    {
     "data": {
      "image/png": "[encoded data removed]",
      "text/plain": [
       "<Figure size 432x288 with 1 Axes>"
      ]
     },
     "metadata": {
      "needs_background": "light"
     },
     "output_type": "display_data"
    }
   ],
   "source": [
    "f_relativa.plot.bar()"
   ]
  },
  {
   "cell_type": "markdown",
   "metadata": {},
   "source": [
    "De acordo com os dados, embora a predominância percentual relativa nos grupos normal à asifixia grave são de gestações entre 37 a 41 semanas(vermelho), há um decréscimo percentual dessa faixa à ordem das categorias do APGAR:\n",
    "\n",
    "- Normal: 37 a 41 semanas -> quase 100% dos dados.\n",
    "- Asfixia leve: 37 a 41 semanas -> 65% dos dados.\n",
    "- Asfixia moderada: 37 a 41 semanas -> 45% dos dados.\n",
    "- Asfixia grave: 37 a 41 semanas -> 48% dos dados.\n",
    "\n",
    "Com isso, as gestações em até 36 semanas passam a ocupar espaço significativo nos grupos que ocorrem asfixia, logo, infere-se que bebês nascidos com 36 semanas ou menos podem correr maior risco de asfixia. \n",
    "\n",
    "Uma das causas da asfixia, segundo a pediatra Leila Denise Pereira, é o trabalho de parto prematuro, sendo até como um alerta de preparo para receber o bebê adequadamente. Conclui-se que os dados corroboram com a afirmação dos médicos.\n",
    "\n",
    "A referência pode ser consultada em www.minhavida.com.br/amp/saude/temas/asfixia-perinatal\n",
    "\n"
   ]
  },
  {
   "cell_type": "markdown",
   "metadata": {},
   "source": [
    "#### 7) Veja se há relação entre APGAR5 e o peso do bebê. Isso pode ser feito de diversas formas. Fique à vontade para escolher a melhor maneira na sua opinião, ou até testar mais de um dos gráficos que vimos. Fique à vontade também para consultar a documentação e utilizar algum outro recurso se achar conveniente."
   ]
  },
  {
   "cell_type": "code",
   "execution_count": 18,
   "metadata": {},
   "outputs": [
    {
     "data": {
      "text/plain": [
       "<AxesSubplot:xlabel='APGAR5', ylabel='PESO'>"
      ]
     },
     "execution_count": 18,
     "metadata": {},
     "output_type": "execute_result"
    },
    {
     "data": {
      "image/png": "[encoded data removed]",
      "text/plain": [
       "<Figure size 432x288 with 1 Axes>"
      ]
     },
     "metadata": {
      "needs_background": "light"
     },
     "output_type": "display_data"
    }
   ],
   "source": [
    "sns.boxplot(data=sinasc\n",
    "           ,x='APGAR5'\n",
    "           ,y='PESO'\n",
    "           )"
   ]
  },
  {
   "cell_type": "code",
   "execution_count": null,
   "metadata": {},
   "outputs": [],
   "source": []
  }
 ],
 "metadata": {
  "kernelspec": {
   "display_name": "Python 3 (ipykernel)",
   "language": "python",
   "name": "python3"
  },
  "language_info": {
   "codemirror_mode": {
    "name": "ipython",
    "version": 3
   },
   "file_extension": ".py",
   "mimetype": "text/x-python",
   "name": "python",
   "nbconvert_exporter": "python",
   "pygments_lexer": "ipython3",
   "version": "3.9.7"
  }
 },
 "nbformat": 4,
 "nbformat_minor": 4
}
