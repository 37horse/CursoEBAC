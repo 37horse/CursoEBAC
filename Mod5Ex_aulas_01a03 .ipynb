{
 "cells": [
  {
   "cell_type": "markdown",
   "metadata": {},
   "source": [
    "# Módulo 5 Tarefa 1\n",
    "## Base de nascidos vivos do DataSUS\n",
    "O DataSUS disponibiliza diversos arquivos de dados com relação a seus segurados, conforme a [lei da transparência de informações públicas](https://www.sisgov.com/transparencia-acesso-informacao/#:~:text=A%20Lei%20da%20Transpar%C3%AAncia%20(LC,em%20um%20site%20na%20internet.). \n",
    "\n",
    "Essas informações podem ser obtidas pela internet [aqui](http://www2.datasus.gov.br/DATASUS/index.php?area=0901&item=1). Como o processo de obtenção desses arquivos foge um pouco do nosso escopo, deixamos o arquivo ```SINASC_RO_2019.csv``` já como vai ser encontrado no DataSUS. O dicionário de dados está no arquivo ```estrutura_sinasc_para_CD.pdf``` (o nome do arquivo tal qual no portal do DataSUS).\n",
    "\n",
    "### Nosso objetivo\n",
    "Queremos deixar uma base organizada para podermos estudar a relação entre partos com risco para o bebê e algumas condições como tempo de parto, consultas de pré-natal etc.\n",
    "\n",
    "#### Preparação da base\n",
    "1. Carregue a base 'SINASC_RO_2019.csv'. Conte o número de registros e o número de registros não duplicados da base. Dica: você aprendeu um método que remove duplicados, encadeie este método com um outro método que conta o número de linhas. **Há linhas duplicadas?**  \n",
    "\n",
    "2. Conte o número de valores *missing* por variável.  \n",
    "\n",
    "3. Ok, no item anterior você deve ter achado pouco prático ler a informação de tantas variáveis, muitas delas nem devem ser interesantes. Então crie uma seleção dessa base somente com as colunas que interessam. São elas:\n",
    "``` \n",
    "['LOCNASC', 'IDADEMAE', 'ESTCIVMAE', 'ESCMAE', 'QTDFILVIVO', \n",
    "    'GESTACAO', 'GRAVIDEZ', 'CONSULTAS', 'APGAR5'] \n",
    "```\n",
    "Refaça a contagem de valores *missings*.  \n",
    "\n",
    "4. Apgar é uma *nota* que o pediatra dá ao bebê quando nasce de acordo com algumas características associadas principalmente à respiração. Apgar 1 e Apgar 5 são as notas 1 e 5 minutos do nascimento. Apgar5 será a nossa variável de interesse principal. Então remova todos os registros com Apgar5 não preenchido. Para esta seleção, conte novamente o número de linhas e o número de *missings*.  \n",
    "\n",
    "5. observe que as variáveis ```['ESTCIVMAE', 'CONSULTAS']``` possuem o código ```9```, que significa *ignorado*. Vamos assumir que o não preenchido é o mesmo que o código ```9```.<br>\n",
    "6. Substitua os valores faltantes da quantitativa (```QTDFILVIVO```) por zero.  \n",
    "7. Das restantes, decida que valore te parece mais adequado (um 'não preenchido' ou um valor 'mais provável' como no item anterior) e preencha. Justifique. Lembre-se de que tratamento de dados é trabalho do cientista, e que estamos tomando decisões a todo o momento - não há necessariamente certo e errado aqui.  \n",
    "8. O Apgar possui uma classificação indicando se o bebê passou por asfixia:\n",
    "- Entre 8 e 10 está em uma faixa 'normal'. \n",
    "- Entre 6 e 7, significa que o recém-nascido passou por 'asfixia leve'. \n",
    "- Entre 4 e 5 significa 'asfixia moderada'.\n",
    "- Entre 0 e 3 significa 'asfixia severa'.  \n",
    "\n",
    "Crie uma categorização dessa variável com essa codificação e calcule as frequências dessa categorização.  \n",
    "<br>\n",
    "9. Renomeie as variáveis para que fiquem no *snake case*, ou seja, em letras minúsculas, com um *underscore* entre as palávras. Dica: repare que se você não quiser criar um *dataframe* novo, você vai precisar usar a opção ```inplace = True```."
   ]
  },
  {
   "cell_type": "code",
   "execution_count": 1,
   "metadata": {},
   "outputs": [
    {
     "name": "stdout",
     "output_type": "stream",
     "text": [
      "(27028, 69)\n"
     ]
    },
    {
     "data": {
      "text/plain": [
       "(27028, 69)"
      ]
     },
     "execution_count": 1,
     "metadata": {},
     "output_type": "execute_result"
    }
   ],
   "source": [
    "# import pandas as pd\n",
    "import requests\n",
    "import pandas as pd\n",
    "import random as rd\n",
    "\n",
    "# 1) seu código aqui\n",
    "sinasc = pd.read_csv('SINASC_RO_2019.csv')\n",
    "print(sinasc.shape)\n",
    "sinasc.drop_duplicates().shape\n",
    "# Não há duplicados"
   ]
  },
  {
   "cell_type": "markdown",
   "metadata": {},
   "source": [
    "**2) seu código aqui**"
   ]
  },
  {
   "cell_type": "code",
   "execution_count": 2,
   "metadata": {},
   "outputs": [
    {
     "data": {
      "text/plain": [
       "{'ORIGEM': 0,\n",
       " 'CODESTAB': 115,\n",
       " 'CODMUNNASC': 0,\n",
       " 'LOCNASC': 0,\n",
       " 'IDADEMAE': 0,\n",
       " 'ESTCIVMAE': 317,\n",
       " 'ESCMAE': 312,\n",
       " 'CODOCUPMAE': 2907,\n",
       " 'QTDFILVIVO': 1573,\n",
       " 'QTDFILMORT': 2098,\n",
       " 'CODMUNRES': 0,\n",
       " 'GESTACAO': 1232,\n",
       " 'GRAVIDEZ': 79,\n",
       " 'PARTO': 49,\n",
       " 'CONSULTAS': 0,\n",
       " 'DTNASC': 0,\n",
       " 'HORANASC': 21,\n",
       " 'SEXO': 4,\n",
       " 'APGAR1': 96,\n",
       " 'APGAR5': 103,\n",
       " 'RACACOR': 647,\n",
       " 'PESO': 0,\n",
       " 'IDANOMAL': 591,\n",
       " 'DTCADASTRO': 0,\n",
       " 'CODANOMAL': 26814,\n",
       " 'NUMEROLOTE': 0,\n",
       " 'VERSAOSIST': 0,\n",
       " 'DTRECEBIM': 0,\n",
       " 'DIFDATA': 0,\n",
       " 'DTRECORIGA': 27028,\n",
       " 'NATURALMAE': 298,\n",
       " 'CODMUNNATU': 298,\n",
       " 'CODUFNATU': 298,\n",
       " 'ESCMAE2010': 249,\n",
       " 'SERIESCMAE': 12710,\n",
       " 'DTNASCMAE': 40,\n",
       " 'RACACORMAE': 661,\n",
       " 'QTDGESTANT': 1212,\n",
       " 'QTDPARTNOR': 1879,\n",
       " 'QTDPARTCES': 1791,\n",
       " 'IDADEPAI': 19421,\n",
       " 'DTULTMENST': 10072,\n",
       " 'SEMAGESTAC': 1238,\n",
       " 'TPMETESTIM': 1238,\n",
       " 'CONSPRENAT': 930,\n",
       " 'MESPRENAT': 2867,\n",
       " 'TPAPRESENT': 265,\n",
       " 'STTRABPART': 947,\n",
       " 'STCESPARTO': 747,\n",
       " 'TPNASCASSI': 61,\n",
       " 'TPFUNCRESP': 67,\n",
       " 'TPDOCRESP': 14,\n",
       " 'DTDECLARAC': 52,\n",
       " 'ESCMAEAGR1': 249,\n",
       " 'STDNEPIDEM': 0,\n",
       " 'STDNNOVA': 0,\n",
       " 'CODPAISRES': 0,\n",
       " 'TPROBSON': 0,\n",
       " 'PARIDADE': 0,\n",
       " 'KOTELCHUCK': 0,\n",
       " 'CONTADOR': 0,\n",
       " 'munResStatus': 0,\n",
       " 'munResTipo': 0,\n",
       " 'munResNome': 0,\n",
       " 'munResUf': 0,\n",
       " 'munResLat': 1,\n",
       " 'munResLon': 1,\n",
       " 'munResAlt': 1,\n",
       " 'munResArea': 1}"
      ]
     },
     "execution_count": 2,
     "metadata": {},
     "output_type": "execute_result"
    }
   ],
   "source": [
    "colunas = sinasc.columns\n",
    "soma_NaN = list(map(lambda x: sinasc[x].isna().sum(), colunas))\n",
    "somaNaN_variaveis = dict()\n",
    "i = 0\n",
    "while i <= (len(colunas) - 1):\n",
    "    somaNaN_variaveis[colunas[i]] = soma_NaN[i]\n",
    "    i += 1\n",
    "\n",
    "somaNaN_variaveis"
   ]
  },
  {
   "cell_type": "markdown",
   "metadata": {},
   "source": [
    " **3) seu código aqui**"
   ]
  },
  {
   "cell_type": "code",
   "execution_count": 3,
   "metadata": {},
   "outputs": [
    {
     "data": {
      "text/plain": [
       "[{'LOCNASC': 0},\n",
       " {'IDADEMAE': 0},\n",
       " {'ESTCIVMAE': 317},\n",
       " {'ESCMAE': 312},\n",
       " {'QTDFILVIVO': 1573},\n",
       " {'GESTACAO': 1232},\n",
       " {'GRAVIDEZ': 79},\n",
       " {'CONSULTAS': 0}]"
      ]
     },
     "execution_count": 3,
     "metadata": {},
     "output_type": "execute_result"
    }
   ],
   "source": [
    "coldeinteresse = ['LOCNASC', 'IDADEMAE', 'ESTCIVMAE', 'ESCMAE', 'QTDFILVIVO',\n",
    "                  'GESTACAO', 'GRAVIDEZ', 'CONSULTAS', 'APGAR5'] \n",
    "valdeinteresse = list(map(lambda x, y: {coldeinteresse[y] : somaNaN_variaveis[x]},\n",
    "                          coldeinteresse, range(0, (len(coldeinteresse)-1))))\n",
    "\n",
    "valdeinteresse"
   ]
  },
  {
   "cell_type": "markdown",
   "metadata": {},
   "source": [
    " **4) seu código aqui**"
   ]
  },
  {
   "cell_type": "code",
   "execution_count": 4,
   "metadata": {},
   "outputs": [
    {
     "name": "stdout",
     "output_type": "stream",
     "text": [
      "121594\n",
      "103\n"
     ]
    }
   ],
   "source": [
    "print(sinasc.isna().sum().sum())\n",
    "print(sinasc['APGAR5'].isna().sum().sum())"
   ]
  },
  {
   "cell_type": "code",
   "execution_count": 5,
   "metadata": {},
   "outputs": [],
   "source": [
    "list_NaN_apgar5 = sinasc.loc[sinasc['APGAR5'].isna()].index\n",
    "sinasc.drop(list_NaN_apgar5, inplace=True)"
   ]
  },
  {
   "cell_type": "code",
   "execution_count": 6,
   "metadata": {},
   "outputs": [
    {
     "data": {
      "text/plain": [
       "103"
      ]
     },
     "execution_count": 6,
     "metadata": {},
     "output_type": "execute_result"
    }
   ],
   "source": [
    "len(list_NaN_apgar5)"
   ]
  },
  {
   "cell_type": "code",
   "execution_count": 7,
   "metadata": {},
   "outputs": [
    {
     "name": "stdout",
     "output_type": "stream",
     "text": [
      "120778\n"
     ]
    }
   ],
   "source": [
    "print(sinasc.isna().sum().sum())\n",
    "\n",
    "#A conta está estranha,a tabela perdeu 816 linhas, não 103. Pode me ajudar a entender em quê errei?"
   ]
  },
  {
   "cell_type": "markdown",
   "metadata": {},
   "source": [
    " **5) seu código aqui**"
   ]
  },
  {
   "cell_type": "code",
   "execution_count": 8,
   "metadata": {},
   "outputs": [
    {
     "name": "stdout",
     "output_type": "stream",
     "text": [
      "315\n",
      "0\n"
     ]
    }
   ],
   "source": [
    "print(sinasc['ESTCIVMAE'].isna().sum())\n",
    "#Há NaN\n",
    "print(sinasc['CONSULTAS'].isna().sum())\n",
    "#Não há NaN"
   ]
  },
  {
   "cell_type": "code",
   "execution_count": 9,
   "metadata": {},
   "outputs": [
    {
     "data": {
      "text/plain": [
       "Int64Index([   62,    68,    95,   113,   116,   128,   165,   179,   265,\n",
       "              379,\n",
       "            ...\n",
       "            26112, 26119, 26231, 26532, 26556, 26585, 26589, 26911, 26946,\n",
       "            26953],\n",
       "           dtype='int64', length=315)"
      ]
     },
     "execution_count": 9,
     "metadata": {},
     "output_type": "execute_result"
    }
   ],
   "source": [
    "#Index para verificar a substituição pelo número 9\n",
    "sinasc.loc[sinasc['ESTCIVMAE'].isna()].index"
   ]
  },
  {
   "cell_type": "code",
   "execution_count": 10,
   "metadata": {},
   "outputs": [],
   "source": [
    "#Substituindo NaN por 9\n",
    "sinasc['ESTCIVMAE'].fillna(9, inplace=True)"
   ]
  },
  {
   "cell_type": "code",
   "execution_count": 11,
   "metadata": {},
   "outputs": [
    {
     "data": {
      "text/plain": [
       "62     9.0\n",
       "68     9.0\n",
       "113    9.0\n",
       "116    9.0\n",
       "Name: ESTCIVMAE, dtype: float64"
      ]
     },
     "execution_count": 11,
     "metadata": {},
     "output_type": "execute_result"
    }
   ],
   "source": [
    "#Verificando os valores\n",
    "sinasc['ESTCIVMAE'].loc[[62,68,113,116]]\n",
    "\n",
    "#Substituição bem sucedida"
   ]
  },
  {
   "cell_type": "markdown",
   "metadata": {},
   "source": [
    " **6) seu código aqui**"
   ]
  },
  {
   "cell_type": "code",
   "execution_count": 12,
   "metadata": {},
   "outputs": [],
   "source": [
    "sinasc['QTDFILVIVO'].fillna(0, inplace=True)"
   ]
  },
  {
   "cell_type": "markdown",
   "metadata": {},
   "source": [
    " **7) seu código aqui**"
   ]
  },
  {
   "cell_type": "code",
   "execution_count": 13,
   "metadata": {},
   "outputs": [
    {
     "name": "stdout",
     "output_type": "stream",
     "text": [
      " Total de linhas: 26925\n"
     ]
    }
   ],
   "source": [
    "#Total de linhas há em todo nosso D.Frame\n",
    "print(f' Total de linhas: {sinasc.shape[0]}')\n",
    "total = sinasc.shape[0]"
   ]
  },
  {
   "cell_type": "code",
   "execution_count": 14,
   "metadata": {},
   "outputs": [],
   "source": [
    "#Vamos descobrir quantas linhas não possuem NaN\n",
    "listaNaN_por_linha = []\n",
    "for i in range(0, (sinasc.shape[0])):\n",
    "    listaNaN_por_linha.append(sum(sinasc.iloc[i].isna()))\n",
    "    "
   ]
  },
  {
   "cell_type": "code",
   "execution_count": 15,
   "metadata": {},
   "outputs": [
    {
     "name": "stdout",
     "output_type": "stream",
     "text": [
      "False\n",
      "Todas as linhas têm dados faltantes\n"
     ]
    }
   ],
   "source": [
    "#Verificando se há linhas sem dados faltantes\n",
    "\n",
    "print(0 in listaNaN_por_linha) #Há zero (0) NaN em alguma linha?\n",
    "\n",
    "print('Todas as linhas têm dados faltantes')"
   ]
  },
  {
   "cell_type": "code",
   "execution_count": 16,
   "metadata": {},
   "outputs": [
    {
     "name": "stdout",
     "output_type": "stream",
     "text": [
      "Total de variáveis: 69\n",
      "Valor máx de missings em uma linha: 28\n"
     ]
    }
   ],
   "source": [
    "#Qual maior valor de dados faltantes uma linha possui?\n",
    "print(f'Total de variáveis: {len(sinasc.keys())}')\n",
    "print(f'Valor máx de missings em uma linha: {max(listaNaN_por_linha)}')"
   ]
  },
  {
   "cell_type": "code",
   "execution_count": 17,
   "metadata": {},
   "outputs": [
    {
     "data": {
      "text/plain": [
       "442"
      ]
     },
     "execution_count": 17,
     "metadata": {},
     "output_type": "execute_result"
    }
   ],
   "source": [
    "tolerancia_miss = len(list(filter(lambda x: x > 10, listaNaN_por_linha)))\n",
    "\n",
    "#Quantas linhas estão com missings count superior a 10?\n",
    "tolerancia_miss"
   ]
  },
  {
   "cell_type": "code",
   "execution_count": 18,
   "metadata": {},
   "outputs": [
    {
     "data": {
      "text/plain": [
       "0.016415970287836583"
      ]
     },
     "execution_count": 18,
     "metadata": {},
     "output_type": "execute_result"
    }
   ],
   "source": [
    "tolerancia_miss/sinasc.shape[0]\n",
    "\n",
    "#Qual percentual que isso representa na nossa base de dados?"
   ]
  },
  {
   "cell_type": "code",
   "execution_count": 19,
   "metadata": {},
   "outputs": [],
   "source": [
    "index_maior_dez = []\n",
    "for i in range(0,len(listaNaN_por_linha) - 1):\n",
    "    if listaNaN_por_linha[i] > 10:\n",
    "        index_maior_dez.append(i)\n",
    "\n",
    "index_maior_dez.remove(6781)\n",
    "index_maior_dez.remove(7686)\n",
    "index_maior_dez.remove(7971)\n",
    "index_maior_dez.remove(20721)\n",
    "index_maior_dez.remove(26715)"
   ]
  },
  {
   "cell_type": "code",
   "execution_count": 20,
   "metadata": {},
   "outputs": [],
   "source": [
    "#Deletando linhas com missings > 10\n",
    "sinasc.drop(index_maior_dez,axis= 0, inplace=True)"
   ]
  },
  {
   "cell_type": "markdown",
   "metadata": {},
   "source": [
    "**Justificativa**\n",
    "\n",
    "A decisão de eliminar linhas com mais de 10 valores missings é baseado no fato de que:\n",
    "1. Há dados faltantes em todas as linhas.\n",
    "2. Pressupondo que o tratamento de missings é em geral a substituição por um outro provável dado, uma linha com muitos missings substituídos seria uma linha \"advinha\".\n",
    "3. O percentual de linhas com mais de 10 valores missings representa apenas 1% dos dados."
   ]
  },
  {
   "cell_type": "code",
   "execution_count": 21,
   "metadata": {},
   "outputs": [
    {
     "data": {
      "text/plain": [
       "26488"
      ]
     },
     "execution_count": 21,
     "metadata": {},
     "output_type": "execute_result"
    }
   ],
   "source": [
    "sinasc.shape[0]"
   ]
  },
  {
   "cell_type": "code",
   "execution_count": 22,
   "metadata": {},
   "outputs": [],
   "source": [
    "def percent_freq_data(df, var: str, _total: int):\n",
    "    \"Calcula o percentual das frequências de valores unique de uma variável do DF\"\n",
    "    _each_value = dict(df[var].value_counts())\n",
    "    dicionar = {}\n",
    "    for i in _each_value:\n",
    "        dicionar[i] = _each_value[i]/_total \n",
    "    return dicionar"
   ]
  },
  {
   "cell_type": "code",
   "execution_count": 23,
   "metadata": {},
   "outputs": [],
   "source": [
    "def cleaningNaNunique(df, var: str, _total: int):\n",
    "    \"O propósito desta função é substituir dados NaN proporcionalmente\"\n",
    "    qtd_nan = int(df[var].isnull().sum())\n",
    "    print(f'Quantidade de NaN: {qtd_nan}')\n",
    "    if qtd_nan == 0:\n",
    "        return print('Não há dados faltantes para essa variável!')\n",
    "    else:\n",
    "        perc_ = percent_freq_data( df, var, _total)\n",
    "        \n",
    "        for k in range(0, 11):\n",
    "            if (df[var].isnull().sum()) != 0:\n",
    "                for i in perc_:\n",
    "                    try:\n",
    "                        df[var].fillna(i, limit= int(qtd_nan * (perc_[i])), inplace = True)\n",
    "                    except ValueError: #problema tá aqui\n",
    "                        pass  #df[var].fillna(i,limit= int((qtd_nan * (perc_[i]) + 1)), inplace = True)\n",
    "            elif (df[var].isnull().sum()) == 0:\n",
    "                break\n",
    "        \n",
    "    print(f\"Resultado = Há {df[var].isnull().sum()} dados faltantes\")"
   ]
  },
  {
   "cell_type": "markdown",
   "metadata": {},
   "source": [
    "* Colunas 'munResLat','munResLon', 'munResAlt','munResArea'"
   ]
  },
  {
   "cell_type": "code",
   "execution_count": 24,
   "metadata": {},
   "outputs": [
    {
     "name": "stdout",
     "output_type": "stream",
     "text": [
      "Int64Index([1863], dtype='int64')\n",
      "Int64Index([1863], dtype='int64')\n",
      "Int64Index([1863], dtype='int64')\n",
      "Int64Index([1863], dtype='int64')\n"
     ]
    }
   ],
   "source": [
    "print(sinasc[sinasc['munResLat'].isna()].index)\n",
    "print(sinasc[sinasc['munResLon'].isna()].index)\n",
    "print(sinasc[sinasc['munResAlt'].isna()].index)\n",
    "print(sinasc[sinasc['munResArea'].isna()].index)"
   ]
  },
  {
   "cell_type": "code",
   "execution_count": 25,
   "metadata": {},
   "outputs": [],
   "source": [
    "sinasc.drop([1863], axis=0, inplace=True)"
   ]
  },
  {
   "cell_type": "markdown",
   "metadata": {},
   "source": [
    "**Justificativa**\n",
    "\n",
    "Todas as colunas apresentam valores missings que compratilham a mesma linha, que é a de índice 1863, portanto, eliminei apenas esta única linha."
   ]
  },
  {
   "cell_type": "markdown",
   "metadata": {},
   "source": [
    "* Coluna 'SEXO'"
   ]
  },
  {
   "cell_type": "code",
   "execution_count": 26,
   "metadata": {},
   "outputs": [
    {
     "data": {
      "text/plain": [
       "Int64Index([7813, 8070, 13489, 20546], dtype='int64')"
      ]
     },
     "execution_count": 26,
     "metadata": {},
     "output_type": "execute_result"
    }
   ],
   "source": [
    "sinasc[sinasc['SEXO'].isna()].index"
   ]
  },
  {
   "cell_type": "code",
   "execution_count": 27,
   "metadata": {},
   "outputs": [
    {
     "data": {
      "text/plain": [
       "Masculino    13596\n",
       "Feminino     12887\n",
       "Name: SEXO, dtype: int64"
      ]
     },
     "execution_count": 27,
     "metadata": {},
     "output_type": "execute_result"
    }
   ],
   "source": [
    "sinasc['SEXO'].value_counts() #Quero mudar a metade dos NaN para Masculino e Feminino"
   ]
  },
  {
   "cell_type": "code",
   "execution_count": 28,
   "metadata": {},
   "outputs": [],
   "source": [
    "sinasc['SEXO'].fillna('Masculino', inplace=True)"
   ]
  },
  {
   "cell_type": "code",
   "execution_count": 29,
   "metadata": {},
   "outputs": [
    {
     "data": {
      "text/plain": [
       "7813    Feminino\n",
       "8070    Feminino\n",
       "Name: SEXO, dtype: object"
      ]
     },
     "execution_count": 29,
     "metadata": {},
     "output_type": "execute_result"
    }
   ],
   "source": [
    "sinasc['SEXO'].loc[[7813,8070]].replace('Masculino', 'Feminino')"
   ]
  },
  {
   "cell_type": "code",
   "execution_count": 30,
   "metadata": {},
   "outputs": [
    {
     "data": {
      "text/plain": [
       "Masculino    13600\n",
       "Feminino     12887\n",
       "Name: SEXO, dtype: int64"
      ]
     },
     "execution_count": 30,
     "metadata": {},
     "output_type": "execute_result"
    }
   ],
   "source": [
    "sinasc['SEXO'].value_counts()"
   ]
  },
  {
   "cell_type": "markdown",
   "metadata": {},
   "source": [
    "**Justificativa**\n",
    "\n",
    "Substitui pela metade os 4 valores missings pela categoria 'Feminino' e 'Masculino', pois em value_counts() essas categorias estão equilibradas entre si. "
   ]
  },
  {
   "cell_type": "markdown",
   "metadata": {},
   "source": [
    "* Coluna 'ESTCIVMAE'"
   ]
  },
  {
   "cell_type": "code",
   "execution_count": 31,
   "metadata": {},
   "outputs": [
    {
     "data": {
      "text/plain": [
       "0"
      ]
     },
     "execution_count": 31,
     "metadata": {},
     "output_type": "execute_result"
    }
   ],
   "source": [
    "sinasc['ESTCIVMAE'].isnull().sum()"
   ]
  },
  {
   "cell_type": "markdown",
   "metadata": {},
   "source": [
    "* Coluna 'ESCMAE'"
   ]
  },
  {
   "cell_type": "code",
   "execution_count": 32,
   "metadata": {},
   "outputs": [
    {
     "data": {
      "text/plain": [
       "300"
      ]
     },
     "execution_count": 32,
     "metadata": {},
     "output_type": "execute_result"
    }
   ],
   "source": [
    "sinasc['ESCMAE'].isnull().sum()"
   ]
  },
  {
   "cell_type": "code",
   "execution_count": 33,
   "metadata": {},
   "outputs": [
    {
     "data": {
      "text/plain": [
       "8 a 11 anos        15358\n",
       "12 anos ou mais     5629\n",
       "4 a 7 anos          4657\n",
       "1 a 3 anos           503\n",
       "Nenhuma               40\n",
       "Name: ESCMAE, dtype: int64"
      ]
     },
     "execution_count": 33,
     "metadata": {},
     "output_type": "execute_result"
    }
   ],
   "source": [
    "sinasc['ESCMAE'].value_counts()"
   ]
  },
  {
   "cell_type": "code",
   "execution_count": 34,
   "metadata": {},
   "outputs": [],
   "source": [
    "sinasc['ESCMAE'].fillna( '8 a 11 anos',axis = 0,inplace = True )"
   ]
  },
  {
   "cell_type": "code",
   "execution_count": 35,
   "metadata": {},
   "outputs": [
    {
     "data": {
      "text/plain": [
       "8 a 11 anos        15658\n",
       "12 anos ou mais     5629\n",
       "4 a 7 anos          4657\n",
       "1 a 3 anos           503\n",
       "Nenhuma               40\n",
       "Name: ESCMAE, dtype: int64"
      ]
     },
     "execution_count": 35,
     "metadata": {},
     "output_type": "execute_result"
    }
   ],
   "source": [
    "sinasc['ESCMAE'].value_counts()"
   ]
  },
  {
   "cell_type": "markdown",
   "metadata": {},
   "source": [
    "**Justificativa**\n",
    "\n",
    "Como essa coluna possui valores categóricos, então substitui os dados pelo valor mais frequente."
   ]
  },
  {
   "cell_type": "markdown",
   "metadata": {},
   "source": [
    "* Coluna 'QTDFILVIVO'"
   ]
  },
  {
   "cell_type": "code",
   "execution_count": 36,
   "metadata": {},
   "outputs": [
    {
     "data": {
      "text/plain": [
       "0"
      ]
     },
     "execution_count": 36,
     "metadata": {},
     "output_type": "execute_result"
    }
   ],
   "source": [
    "sinasc['QTDFILVIVO'].isnull().sum()"
   ]
  },
  {
   "cell_type": "markdown",
   "metadata": {},
   "source": [
    "* Coluna 'QTDFILMORT'"
   ]
  },
  {
   "cell_type": "code",
   "execution_count": 37,
   "metadata": {},
   "outputs": [
    {
     "data": {
      "text/plain": [
       "1968"
      ]
     },
     "execution_count": 37,
     "metadata": {},
     "output_type": "execute_result"
    }
   ],
   "source": [
    "sinasc['QTDFILMORT'].isnull().sum()"
   ]
  },
  {
   "cell_type": "code",
   "execution_count": 38,
   "metadata": {},
   "outputs": [
    {
     "data": {
      "text/plain": [
       "0.0"
      ]
     },
     "execution_count": 38,
     "metadata": {},
     "output_type": "execute_result"
    }
   ],
   "source": [
    "sinasc['QTDFILMORT'].median()"
   ]
  },
  {
   "cell_type": "code",
   "execution_count": 39,
   "metadata": {},
   "outputs": [],
   "source": [
    "sinasc['QTDFILMORT'].fillna(0.0, axis = 0, inplace= True)"
   ]
  },
  {
   "cell_type": "code",
   "execution_count": 40,
   "metadata": {},
   "outputs": [
    {
     "data": {
      "text/plain": [
       "0.0     21333\n",
       "1.0      4155\n",
       "2.0       769\n",
       "3.0       168\n",
       "4.0        38\n",
       "5.0        13\n",
       "6.0         6\n",
       "9.0         2\n",
       "7.0         1\n",
       "8.0         1\n",
       "28.0        1\n",
       "Name: QTDFILMORT, dtype: int64"
      ]
     },
     "execution_count": 40,
     "metadata": {},
     "output_type": "execute_result"
    }
   ],
   "source": [
    "sinasc['QTDFILMORT'].value_counts()"
   ]
  },
  {
   "cell_type": "markdown",
   "metadata": {},
   "source": [
    "**Justificativa**\n",
    "\n",
    "Como os valores são numéricos, eu substitui pela mediana que é uma medida que está em uso correto independente da distribuição dos dados."
   ]
  },
  {
   "cell_type": "markdown",
   "metadata": {},
   "source": [
    "* Coluna 'GESTACAO'"
   ]
  },
  {
   "cell_type": "code",
   "execution_count": 41,
   "metadata": {},
   "outputs": [
    {
     "data": {
      "text/plain": [
       "1176"
      ]
     },
     "execution_count": 41,
     "metadata": {},
     "output_type": "execute_result"
    }
   ],
   "source": [
    "sinasc['GESTACAO'].isna().sum()"
   ]
  },
  {
   "cell_type": "code",
   "execution_count": 42,
   "metadata": {},
   "outputs": [
    {
     "data": {
      "text/plain": [
       "37 a 41 semanas        22198\n",
       "32 a 36 semanas         2176\n",
       "42 semanas e mais        692\n",
       "28 a 31 semanas          156\n",
       "22 a 27 semanas           82\n",
       "Menos de 22 semanas        7\n",
       "Name: GESTACAO, dtype: int64"
      ]
     },
     "execution_count": 42,
     "metadata": {},
     "output_type": "execute_result"
    }
   ],
   "source": [
    "sinasc['GESTACAO'].value_counts()"
   ]
  },
  {
   "cell_type": "code",
   "execution_count": 43,
   "metadata": {},
   "outputs": [
    {
     "name": "stdout",
     "output_type": "stream",
     "text": [
      "Quantidade de NaN: 1176\n",
      "Resultado = Há 0 dados faltantes\n"
     ]
    }
   ],
   "source": [
    "cleaningNaNunique(sinasc, 'GESTACAO', total)"
   ]
  },
  {
   "cell_type": "code",
   "execution_count": 44,
   "metadata": {},
   "outputs": [
    {
     "data": {
      "text/plain": [
       "37 a 41 semanas        23240\n",
       "32 a 36 semanas         2271\n",
       "42 semanas e mais        722\n",
       "28 a 31 semanas          162\n",
       "22 a 27 semanas           85\n",
       "Menos de 22 semanas        7\n",
       "Name: GESTACAO, dtype: int64"
      ]
     },
     "execution_count": 44,
     "metadata": {},
     "output_type": "execute_result"
    }
   ],
   "source": [
    "sinasc['GESTACAO'].value_counts()"
   ]
  },
  {
   "cell_type": "markdown",
   "metadata": {},
   "source": [
    "**Justificativa**\n",
    "\n",
    "Utilizei da função que desenvolvi para repor os dados proporcionalmente na substituição dessas 6 categorias, pois a distribuição segue o padrão encontrado nos dados."
   ]
  },
  {
   "cell_type": "markdown",
   "metadata": {},
   "source": [
    "* Coluna 'GRAVIDEZ'"
   ]
  },
  {
   "cell_type": "code",
   "execution_count": 45,
   "metadata": {},
   "outputs": [
    {
     "data": {
      "text/plain": [
       "75"
      ]
     },
     "execution_count": 45,
     "metadata": {},
     "output_type": "execute_result"
    }
   ],
   "source": [
    "sinasc['GRAVIDEZ'].isna().sum()"
   ]
  },
  {
   "cell_type": "code",
   "execution_count": 46,
   "metadata": {},
   "outputs": [
    {
     "data": {
      "text/plain": [
       "Única              25941\n",
       "Dupla                466\n",
       "Tríplice e mais        5\n",
       "Name: GRAVIDEZ, dtype: int64"
      ]
     },
     "execution_count": 46,
     "metadata": {},
     "output_type": "execute_result"
    }
   ],
   "source": [
    "sinasc['GRAVIDEZ'].value_counts()"
   ]
  },
  {
   "cell_type": "code",
   "execution_count": 47,
   "metadata": {},
   "outputs": [],
   "source": [
    "sinasc['GRAVIDEZ'].fillna('Única', axis = 0, inplace = True)"
   ]
  },
  {
   "cell_type": "code",
   "execution_count": 48,
   "metadata": {},
   "outputs": [
    {
     "data": {
      "text/plain": [
       "Única              26016\n",
       "Dupla                466\n",
       "Tríplice e mais        5\n",
       "Name: GRAVIDEZ, dtype: int64"
      ]
     },
     "execution_count": 48,
     "metadata": {},
     "output_type": "execute_result"
    }
   ],
   "source": [
    "sinasc['GRAVIDEZ'].value_counts()"
   ]
  },
  {
   "cell_type": "markdown",
   "metadata": {},
   "source": [
    "**Justificativa**\n",
    "\n",
    "Como os dados desta variável são categorias, então substitui pelo valor mais frequente."
   ]
  },
  {
   "cell_type": "markdown",
   "metadata": {},
   "source": [
    "* Coluna 'PARTO'"
   ]
  },
  {
   "cell_type": "code",
   "execution_count": 49,
   "metadata": {},
   "outputs": [
    {
     "data": {
      "text/plain": [
       "47"
      ]
     },
     "execution_count": 49,
     "metadata": {},
     "output_type": "execute_result"
    }
   ],
   "source": [
    "sinasc['PARTO'].isnull().sum()"
   ]
  },
  {
   "cell_type": "code",
   "execution_count": 50,
   "metadata": {},
   "outputs": [
    {
     "data": {
      "text/plain": [
       "Cesáreo    17696\n",
       "Vaginal     8744\n",
       "Name: PARTO, dtype: int64"
      ]
     },
     "execution_count": 50,
     "metadata": {},
     "output_type": "execute_result"
    }
   ],
   "source": [
    "sinasc['PARTO'].value_counts()"
   ]
  },
  {
   "cell_type": "code",
   "execution_count": 51,
   "metadata": {},
   "outputs": [],
   "source": [
    "sinasc['PARTO'].fillna('Cesáreo', axis = 0, inplace = True)"
   ]
  },
  {
   "cell_type": "code",
   "execution_count": 52,
   "metadata": {},
   "outputs": [
    {
     "data": {
      "text/plain": [
       "Cesáreo    17743\n",
       "Vaginal     8744\n",
       "Name: PARTO, dtype: int64"
      ]
     },
     "execution_count": 52,
     "metadata": {},
     "output_type": "execute_result"
    }
   ],
   "source": [
    "sinasc['PARTO'].value_counts()"
   ]
  },
  {
   "cell_type": "markdown",
   "metadata": {},
   "source": [
    "**Justificativa**\n",
    "\n",
    "Como os dados desta variável são categorias, então substitui pelo valor mais frequente."
   ]
  },
  {
   "cell_type": "markdown",
   "metadata": {},
   "source": [
    " * Coluna 'HORANASC'"
   ]
  },
  {
   "cell_type": "code",
   "execution_count": 53,
   "metadata": {},
   "outputs": [
    {
     "data": {
      "text/plain": [
       "21"
      ]
     },
     "execution_count": 53,
     "metadata": {},
     "output_type": "execute_result"
    }
   ],
   "source": [
    "sinasc['HORANASC'].isnull().sum()"
   ]
  },
  {
   "cell_type": "code",
   "execution_count": 54,
   "metadata": {},
   "outputs": [
    {
     "data": {
      "text/plain": [
       "1000.0    116\n",
       "1015.0     94\n",
       "1030.0     91\n",
       "930.0      91\n",
       "1120.0     90\n",
       "         ... \n",
       "314.0       1\n",
       "309.0       1\n",
       "136.0       1\n",
       "339.0       1\n",
       "323.0       1\n",
       "Name: HORANASC, Length: 1439, dtype: int64"
      ]
     },
     "execution_count": 54,
     "metadata": {},
     "output_type": "execute_result"
    }
   ],
   "source": [
    "sinasc['HORANASC'].value_counts()"
   ]
  },
  {
   "cell_type": "code",
   "execution_count": 55,
   "metadata": {},
   "outputs": [],
   "source": [
    "HORANASC_unique = list(sinasc['HORANASC'].unique())"
   ]
  },
  {
   "cell_type": "code",
   "execution_count": 56,
   "metadata": {},
   "outputs": [],
   "source": [
    "for x in (rd.choices(HORANASC_unique, k = 21)):\n",
    "    sinasc['HORANASC'].fillna( x, limit = 1, axis=0, inplace= True)"
   ]
  },
  {
   "cell_type": "code",
   "execution_count": 57,
   "metadata": {},
   "outputs": [
    {
     "data": {
      "text/plain": [
       "0"
      ]
     },
     "execution_count": 57,
     "metadata": {},
     "output_type": "execute_result"
    }
   ],
   "source": [
    "sinasc['HORANASC'].isnull().sum()"
   ]
  },
  {
   "cell_type": "code",
   "execution_count": 58,
   "metadata": {},
   "outputs": [
    {
     "data": {
      "text/plain": [
       "1000.0    116\n",
       "1015.0     94\n",
       "930.0      91\n",
       "1030.0     91\n",
       "1120.0     90\n",
       "         ... \n",
       "314.0       1\n",
       "309.0       1\n",
       "136.0       1\n",
       "339.0       1\n",
       "323.0       1\n",
       "Name: HORANASC, Length: 1439, dtype: int64"
      ]
     },
     "execution_count": 58,
     "metadata": {},
     "output_type": "execute_result"
    }
   ],
   "source": [
    "sinasc['HORANASC'].value_counts()"
   ]
  },
  {
   "cell_type": "markdown",
   "metadata": {},
   "source": [
    "**Justificativa**\n",
    "\n",
    "A hora de nascimento é um fenômeno independente e com extensa possibilidade de ocorrer (considerando 24 horas diferentes mais 60 minutos diferentes), por essa razão, aos valores faltantes, que não eram muitos, eu randomizei o horário de nascimento no processo de substituição."
   ]
  },
  {
   "cell_type": "markdown",
   "metadata": {},
   "source": [
    "* Coluna 'CODANOMAL'"
   ]
  },
  {
   "cell_type": "code",
   "execution_count": 59,
   "metadata": {},
   "outputs": [
    {
     "data": {
      "text/plain": [
       "26281"
      ]
     },
     "execution_count": 59,
     "metadata": {},
     "output_type": "execute_result"
    }
   ],
   "source": [
    "sinasc['CODANOMAL'].isnull().sum() #O RESTO DOS DADOS SÃO BEBÊS SEM ANOMALIAS?"
   ]
  },
  {
   "cell_type": "code",
   "execution_count": 60,
   "metadata": {},
   "outputs": [
    {
     "data": {
      "text/plain": [
       "Q699        16\n",
       "Q909         9\n",
       "Q668         8\n",
       "Q793         8\n",
       "Q709         7\n",
       "            ..\n",
       "Q660Q681     1\n",
       "Q759         1\n",
       "Q524         1\n",
       "Q741         1\n",
       "Q225Q250     1\n",
       "Name: CODANOMAL, Length: 112, dtype: int64"
      ]
     },
     "execution_count": 60,
     "metadata": {},
     "output_type": "execute_result"
    }
   ],
   "source": [
    "sinasc['CODANOMAL'].value_counts()"
   ]
  },
  {
   "cell_type": "code",
   "execution_count": 61,
   "metadata": {},
   "outputs": [
    {
     "name": "stdout",
     "output_type": "stream",
     "text": [
      "IDANOMAL         0\n",
      "CODANOMAL    25574\n",
      "dtype: int64\n",
      "\n",
      "IDANOMAL     0\n",
      "CODANOMAL    0\n",
      "dtype: int64\n",
      "\n",
      "IDANOMAL       0\n",
      "CODANOMAL    143\n",
      "dtype: int64\n"
     ]
    }
   ],
   "source": [
    "verificar = sinasc[['IDANOMAL', 'CODANOMAL']]\n",
    "print(verificar[verificar['IDANOMAL'] == 2.0].isnull().sum()) #2.0 Sem anomalia\n",
    "print()\n",
    "print(verificar[verificar['IDANOMAL'] == 1.0].isnull().sum())\n",
    "print()\n",
    "print(verificar[verificar['IDANOMAL'] == 9.0].isnull().sum())"
   ]
  },
  {
   "cell_type": "code",
   "execution_count": 62,
   "metadata": {},
   "outputs": [],
   "source": [
    " sinasc['CODANOMAL'].fillna('Sem anomalia', axis=0, inplace = True)"
   ]
  },
  {
   "cell_type": "code",
   "execution_count": 63,
   "metadata": {},
   "outputs": [
    {
     "data": {
      "text/plain": [
       "Sem anomalia    26281\n",
       "Q699               16\n",
       "Q909                9\n",
       "Q668                8\n",
       "Q793                8\n",
       "                ...  \n",
       "Q809                1\n",
       "Q660Q681            1\n",
       "Q759                1\n",
       "Q524                1\n",
       "Q225Q250            1\n",
       "Name: CODANOMAL, Length: 113, dtype: int64"
      ]
     },
     "execution_count": 63,
     "metadata": {},
     "output_type": "execute_result"
    }
   ],
   "source": [
    "sinasc['CODANOMAL'].value_counts()"
   ]
  },
  {
   "cell_type": "markdown",
   "metadata": {},
   "source": [
    "**Justificativa**\n",
    "\n",
    "A coluna 'CODANOMAL' têm dados com códigos para atribuir o tipo de anomalia associado aos bebês que nasceram com, dessa forma, uma grande parte dos dados estavam em NaN e pensei que ou haviam bebês sem anomalia,ou haviam dados sem registro, ou bebês aos que não se identificou anomalia, equivalente a isso, outra coluna foi responsável pela identificação das anomalias (1.com anomalia, 2.sem anomalia, 9.não identificado) que é 'IDANOMAL'. Dessa maneira, praticamente os dados em NaN na coluna 'CODANOMAL' estão diretamente relacionados aos dados da coluna 'IDANOMAL' com número 2.0 de identificação (sem anomalia), por isso, eu substitui os NaN por 'Sem anomalia'. "
   ]
  },
  {
   "cell_type": "markdown",
   "metadata": {},
   "source": [
    "* Coluna 'RACACOR'"
   ]
  },
  {
   "cell_type": "code",
   "execution_count": 64,
   "metadata": {},
   "outputs": [
    {
     "data": {
      "text/plain": [
       "618"
      ]
     },
     "execution_count": 64,
     "metadata": {},
     "output_type": "execute_result"
    }
   ],
   "source": [
    "sinasc['RACACOR'].isnull().sum()"
   ]
  },
  {
   "cell_type": "code",
   "execution_count": 65,
   "metadata": {},
   "outputs": [
    {
     "data": {
      "text/plain": [
       "Parda       19188\n",
       "Branca       5309\n",
       "Preta         858\n",
       "Indígena      400\n",
       "Amarela       114\n",
       "Name: RACACOR, dtype: int64"
      ]
     },
     "execution_count": 65,
     "metadata": {},
     "output_type": "execute_result"
    }
   ],
   "source": [
    "sinasc['RACACOR'].value_counts()"
   ]
  },
  {
   "cell_type": "code",
   "execution_count": 66,
   "metadata": {},
   "outputs": [
    {
     "name": "stdout",
     "output_type": "stream",
     "text": [
      "Quantidade de NaN: 618\n",
      "Resultado = Há 0 dados faltantes\n"
     ]
    }
   ],
   "source": [
    "cleaningNaNunique(sinasc, 'RACACOR', total)"
   ]
  },
  {
   "cell_type": "code",
   "execution_count": 67,
   "metadata": {},
   "outputs": [
    {
     "data": {
      "text/plain": [
       "Parda       19655\n",
       "Branca       5430\n",
       "Preta         877\n",
       "Indígena      409\n",
       "Amarela       116\n",
       "Name: RACACOR, dtype: int64"
      ]
     },
     "execution_count": 67,
     "metadata": {},
     "output_type": "execute_result"
    }
   ],
   "source": [
    "sinasc['RACACOR'].value_counts()"
   ]
  },
  {
   "cell_type": "markdown",
   "metadata": {},
   "source": [
    "**Justificativa**\n",
    "\n",
    "Utilizei da função que desenvolvi para repor os dados proporcionalmente na substituição dessas 5 categorias, pois a distribuição segue o padrão encontrado nos dados."
   ]
  },
  {
   "cell_type": "markdown",
   "metadata": {},
   "source": [
    "* Coluna 'IDANOMAL'"
   ]
  },
  {
   "cell_type": "code",
   "execution_count": 68,
   "metadata": {},
   "outputs": [
    {
     "data": {
      "text/plain": [
       "564"
      ]
     },
     "execution_count": 68,
     "metadata": {},
     "output_type": "execute_result"
    }
   ],
   "source": [
    "sinasc['IDANOMAL'].isnull().sum()"
   ]
  },
  {
   "cell_type": "code",
   "execution_count": 69,
   "metadata": {},
   "outputs": [
    {
     "data": {
      "text/plain": [
       "2.0    25574\n",
       "1.0      206\n",
       "9.0      143\n",
       "Name: IDANOMAL, dtype: int64"
      ]
     },
     "execution_count": 69,
     "metadata": {},
     "output_type": "execute_result"
    }
   ],
   "source": [
    "sinasc['IDANOMAL'].value_counts()"
   ]
  },
  {
   "cell_type": "code",
   "execution_count": 70,
   "metadata": {},
   "outputs": [],
   "source": [
    "sinasc['IDANOMAL'].fillna(2.0, axis = 0, inplace = True)"
   ]
  },
  {
   "cell_type": "code",
   "execution_count": 71,
   "metadata": {},
   "outputs": [
    {
     "data": {
      "text/plain": [
       "2.0    26138\n",
       "1.0      206\n",
       "9.0      143\n",
       "Name: IDANOMAL, dtype: int64"
      ]
     },
     "execution_count": 71,
     "metadata": {},
     "output_type": "execute_result"
    }
   ],
   "source": [
    "sinasc['IDANOMAL'].value_counts()"
   ]
  },
  {
   "cell_type": "markdown",
   "metadata": {},
   "source": [
    "**Justificativa**\n",
    "\n",
    "Os valores dessa variável são categóricos, então substitui os valores faltantes pelo mais frequente."
   ]
  },
  {
   "cell_type": "markdown",
   "metadata": {},
   "source": [
    "* Coluna 'DTNASCMAE'"
   ]
  },
  {
   "cell_type": "code",
   "execution_count": 72,
   "metadata": {},
   "outputs": [
    {
     "data": {
      "text/plain": [
       "39"
      ]
     },
     "execution_count": 72,
     "metadata": {},
     "output_type": "execute_result"
    }
   ],
   "source": [
    "sinasc['DTNASCMAE'].isnull().sum()"
   ]
  },
  {
   "cell_type": "code",
   "execution_count": 73,
   "metadata": {},
   "outputs": [
    {
     "data": {
      "text/plain": [
       "24031999.0    12\n",
       "10031997.0    12\n",
       "20061996.0    12\n",
       "8031998.0     12\n",
       "21061992.0    11\n",
       "              ..\n",
       "29061986.0     1\n",
       "20022000.0     1\n",
       "20101981.0     1\n",
       "5071990.0      1\n",
       "31032001.0     1\n",
       "Name: DTNASCMAE, Length: 8705, dtype: int64"
      ]
     },
     "execution_count": 73,
     "metadata": {},
     "output_type": "execute_result"
    }
   ],
   "source": [
    "sinasc['DTNASCMAE'].value_counts()"
   ]
  },
  {
   "cell_type": "code",
   "execution_count": 74,
   "metadata": {},
   "outputs": [],
   "source": [
    "DTNASCMAE_unique = list(sinasc['DTNASCMAE'].unique())"
   ]
  },
  {
   "cell_type": "code",
   "execution_count": 75,
   "metadata": {},
   "outputs": [],
   "source": [
    "for x in (rd.choices(DTNASCMAE_unique, k = 39)):\n",
    "    sinasc['DTNASCMAE'].fillna( x, limit = 1, axis=0, inplace= True)"
   ]
  },
  {
   "cell_type": "markdown",
   "metadata": {},
   "source": [
    "**Justificativa**\n",
    "\n",
    "A data de nascimento é um fênomeno independente e pode ocorrer com inúmeras possibilidades (considerando 30 dias, 12 meses e os últimos 100 anos), ao ter apenas 39 dados faltantes, decidi randomizar os já existentes e preencher essa lacuna."
   ]
  },
  {
   "cell_type": "markdown",
   "metadata": {},
   "source": [
    "* Coluna 'RACACORMAE'"
   ]
  },
  {
   "cell_type": "code",
   "execution_count": 76,
   "metadata": {},
   "outputs": [
    {
     "data": {
      "text/plain": [
       "632"
      ]
     },
     "execution_count": 76,
     "metadata": {},
     "output_type": "execute_result"
    }
   ],
   "source": [
    "sinasc['RACACORMAE'].isnull().sum()"
   ]
  },
  {
   "cell_type": "code",
   "execution_count": 77,
   "metadata": {},
   "outputs": [
    {
     "data": {
      "text/plain": [
       "4.0    19181\n",
       "1.0     5305\n",
       "2.0      858\n",
       "5.0      397\n",
       "3.0      114\n",
       "Name: RACACORMAE, dtype: int64"
      ]
     },
     "execution_count": 77,
     "metadata": {},
     "output_type": "execute_result"
    }
   ],
   "source": [
    "sinasc['RACACORMAE'].value_counts()"
   ]
  },
  {
   "cell_type": "code",
   "execution_count": 78,
   "metadata": {},
   "outputs": [
    {
     "name": "stdout",
     "output_type": "stream",
     "text": [
      "Quantidade de NaN: 632\n",
      "Resultado = Há 0 dados faltantes\n"
     ]
    }
   ],
   "source": [
    "cleaningNaNunique(sinasc, 'RACACORMAE', total)"
   ]
  },
  {
   "cell_type": "code",
   "execution_count": 79,
   "metadata": {},
   "outputs": [
    {
     "data": {
      "text/plain": [
       "4.0    19658\n",
       "1.0     5429\n",
       "2.0      878\n",
       "5.0      406\n",
       "3.0      116\n",
       "Name: RACACORMAE, dtype: int64"
      ]
     },
     "execution_count": 79,
     "metadata": {},
     "output_type": "execute_result"
    }
   ],
   "source": [
    "sinasc['RACACORMAE'].value_counts()"
   ]
  },
  {
   "cell_type": "markdown",
   "metadata": {},
   "source": [
    "**Justificativa**\n",
    "\n",
    "Utilizei da função que desenvolvi para repor os dados proporcionalmente na substituição dessas 5 categorias, pois a distribuição segue o padrão encontrado nos dados."
   ]
  },
  {
   "cell_type": "markdown",
   "metadata": {},
   "source": [
    "* Coluna 'QTDGESTANT'"
   ]
  },
  {
   "cell_type": "code",
   "execution_count": 80,
   "metadata": {},
   "outputs": [
    {
     "data": {
      "text/plain": [
       "1115"
      ]
     },
     "execution_count": 80,
     "metadata": {},
     "output_type": "execute_result"
    }
   ],
   "source": [
    "sinasc['QTDGESTANT'].isnull().sum()"
   ]
  },
  {
   "cell_type": "code",
   "execution_count": 81,
   "metadata": {},
   "outputs": [
    {
     "data": {
      "text/plain": [
       "0.0     8501\n",
       "1.0     8302\n",
       "2.0     4861\n",
       "3.0     2134\n",
       "4.0      862\n",
       "5.0      352\n",
       "6.0      180\n",
       "7.0       95\n",
       "8.0       37\n",
       "9.0       25\n",
       "10.0      12\n",
       "12.0       3\n",
       "14.0       3\n",
       "11.0       2\n",
       "15.0       1\n",
       "13.0       1\n",
       "52.0       1\n",
       "Name: QTDGESTANT, dtype: int64"
      ]
     },
     "execution_count": 81,
     "metadata": {},
     "output_type": "execute_result"
    }
   ],
   "source": [
    "sinasc['QTDGESTANT'].value_counts()"
   ]
  },
  {
   "cell_type": "code",
   "execution_count": 82,
   "metadata": {},
   "outputs": [
    {
     "name": "stdout",
     "output_type": "stream",
     "text": [
      "Quantidade de NaN: 1115\n",
      "Resultado = Há 0 dados faltantes\n"
     ]
    }
   ],
   "source": [
    "cleaningNaNunique(sinasc, 'QTDGESTANT', total)"
   ]
  },
  {
   "cell_type": "code",
   "execution_count": 83,
   "metadata": {},
   "outputs": [
    {
     "data": {
      "text/plain": [
       "0.0     8923\n",
       "1.0     8645\n",
       "2.0     5062\n",
       "3.0     2222\n",
       "4.0      897\n",
       "5.0      366\n",
       "6.0      187\n",
       "7.0       98\n",
       "8.0       38\n",
       "9.0       26\n",
       "10.0      12\n",
       "12.0       3\n",
       "14.0       3\n",
       "11.0       2\n",
       "15.0       1\n",
       "13.0       1\n",
       "52.0       1\n",
       "Name: QTDGESTANT, dtype: int64"
      ]
     },
     "execution_count": 83,
     "metadata": {},
     "output_type": "execute_result"
    }
   ],
   "source": [
    "sinasc['QTDGESTANT'].value_counts()"
   ]
  },
  {
   "cell_type": "markdown",
   "metadata": {},
   "source": [
    "**Justificativa**\n",
    "\n",
    "Utilizei da função que desenvolvi para repor os dados proporcionalmente na substituição desses valores numéricos, pois a distribuição segue o padrão encontrado nos dados."
   ]
  },
  {
   "cell_type": "markdown",
   "metadata": {},
   "source": [
    "* Coluna 'QTDPARTNOR'"
   ]
  },
  {
   "cell_type": "code",
   "execution_count": 84,
   "metadata": {},
   "outputs": [
    {
     "data": {
      "text/plain": [
       "1755"
      ]
     },
     "execution_count": 84,
     "metadata": {},
     "output_type": "execute_result"
    }
   ],
   "source": [
    "sinasc['QTDPARTNOR'].isnull().sum()"
   ]
  },
  {
   "cell_type": "code",
   "execution_count": 85,
   "metadata": {},
   "outputs": [
    {
     "data": {
      "text/plain": [
       "0.0     17025\n",
       "1.0      4281\n",
       "2.0      1913\n",
       "3.0       808\n",
       "4.0       368\n",
       "5.0       163\n",
       "6.0        82\n",
       "7.0        43\n",
       "8.0        16\n",
       "10.0       14\n",
       "9.0        11\n",
       "12.0        2\n",
       "40.0        2\n",
       "14.0        2\n",
       "30.0        1\n",
       "41.0        1\n",
       "Name: QTDPARTNOR, dtype: int64"
      ]
     },
     "execution_count": 85,
     "metadata": {},
     "output_type": "execute_result"
    }
   ],
   "source": [
    "sinasc['QTDPARTNOR'].value_counts()"
   ]
  },
  {
   "cell_type": "markdown",
   "metadata": {},
   "source": [
    "* Coluna 'QTDPARTCES'"
   ]
  },
  {
   "cell_type": "code",
   "execution_count": 86,
   "metadata": {},
   "outputs": [
    {
     "data": {
      "text/plain": [
       "1668"
      ]
     },
     "execution_count": 86,
     "metadata": {},
     "output_type": "execute_result"
    }
   ],
   "source": [
    "sinasc['QTDPARTCES'].isnull().sum()"
   ]
  },
  {
   "cell_type": "code",
   "execution_count": 87,
   "metadata": {},
   "outputs": [
    {
     "data": {
      "text/plain": [
       "0.0"
      ]
     },
     "execution_count": 87,
     "metadata": {},
     "output_type": "execute_result"
    }
   ],
   "source": [
    "sinasc['QTDPARTCES'].median()"
   ]
  },
  {
   "cell_type": "code",
   "execution_count": 88,
   "metadata": {},
   "outputs": [],
   "source": [
    "sinasc['QTDPARTCES'].fillna(0.0, axis = 0, inplace = True)"
   ]
  },
  {
   "cell_type": "markdown",
   "metadata": {},
   "source": [
    "**Justificativa**\n",
    "\n",
    "Como os valores da variável são numéricos, então substitui pela mediana."
   ]
  },
  {
   "cell_type": "markdown",
   "metadata": {},
   "source": [
    "* Coluna 'IDADEPAI '"
   ]
  },
  {
   "cell_type": "code",
   "execution_count": 89,
   "metadata": {},
   "outputs": [
    {
     "data": {
      "text/plain": [
       "18938"
      ]
     },
     "execution_count": 89,
     "metadata": {},
     "output_type": "execute_result"
    }
   ],
   "source": [
    "sinasc['IDADEPAI'].isnull().sum()"
   ]
  },
  {
   "cell_type": "code",
   "execution_count": 90,
   "metadata": {},
   "outputs": [
    {
     "data": {
      "text/plain": [
       "0.714992260354136"
      ]
     },
     "execution_count": 90,
     "metadata": {},
     "output_type": "execute_result"
    }
   ],
   "source": [
    "#São muitos dados faltantes, não acho seguro aplicar a proporção \n",
    "18938 / sinasc.shape[0]"
   ]
  },
  {
   "cell_type": "markdown",
   "metadata": {},
   "source": [
    "**Justificativa**\n",
    "\n",
    "Esta variável tem 71.49% dos dados faltantes, compreendendo boa parte dos dados em missing. Por isso, raciocinei que caso eu substituisse esses missings com base em 28.49% dos dados poderia ocorrer um erro de estimativa, porque os dados reais são poucos."
   ]
  },
  {
   "cell_type": "markdown",
   "metadata": {},
   "source": [
    "* coluna APGAR1"
   ]
  },
  {
   "cell_type": "code",
   "execution_count": 91,
   "metadata": {},
   "outputs": [
    {
     "data": {
      "text/plain": [
       "4"
      ]
     },
     "execution_count": 91,
     "metadata": {},
     "output_type": "execute_result"
    }
   ],
   "source": [
    "sinasc['APGAR1'].isna().sum()"
   ]
  },
  {
   "cell_type": "code",
   "execution_count": 98,
   "metadata": {},
   "outputs": [
    {
     "data": {
      "text/plain": [
       "8.0"
      ]
     },
     "execution_count": 98,
     "metadata": {},
     "output_type": "execute_result"
    }
   ],
   "source": [
    "sinasc['APGAR1'].median()"
   ]
  },
  {
   "cell_type": "code",
   "execution_count": 93,
   "metadata": {},
   "outputs": [],
   "source": [
    "sinasc['APGAR1'].fillna(8.0, axis=0, inplace=True)"
   ]
  },
  {
   "cell_type": "markdown",
   "metadata": {},
   "source": [
    "**Jusificativa**\n",
    "\n",
    "Os valores dessa variável são numéricos, logo substitui pela mediana."
   ]
  },
  {
   "cell_type": "markdown",
   "metadata": {},
   "source": [
    "* Coluna APGAR5"
   ]
  },
  {
   "cell_type": "code",
   "execution_count": 94,
   "metadata": {},
   "outputs": [
    {
     "data": {
      "text/plain": [
       "0"
      ]
     },
     "execution_count": 94,
     "metadata": {},
     "output_type": "execute_result"
    }
   ],
   "source": [
    "sinasc['APGAR5'].isnull().sum()"
   ]
  },
  {
   "cell_type": "markdown",
   "metadata": {},
   "source": [
    "**8) seu código aqui**"
   ]
  },
  {
   "cell_type": "code",
   "execution_count": 95,
   "metadata": {},
   "outputs": [],
   "source": [
    "sinasc.loc[(sinasc['APGAR1'] >= 8) & (sinasc['APGAR1'] <= 10), \n",
    "          'cat_APGAR1'] = 'normal'\n",
    "sinasc.loc[(sinasc['APGAR1'] >= 6) &(sinasc['APGAR1'] <= 7),\n",
    "          'cat_APGAR1'] = 'asfixia leve'\n",
    "sinasc.loc[(sinasc['APGAR1'] >= 4) &(sinasc['APGAR1'] <= 5),\n",
    "          'cat_APGAR1'] = 'asfixia moderada'\n",
    "sinasc.loc[(sinasc['APGAR1'] >= 0) &(sinasc['APGAR1'] <= 3),\n",
    "          'cat_APGAR1'] = 'asfixia severa'"
   ]
  },
  {
   "cell_type": "code",
   "execution_count": 96,
   "metadata": {},
   "outputs": [
    {
     "data": {
      "text/plain": [
       "normal              23414\n",
       "asfixia leve         2481\n",
       "asfixia moderada      369\n",
       "asfixia severa        223\n",
       "Name: cat_APGAR1, dtype: int64"
      ]
     },
     "execution_count": 96,
     "metadata": {},
     "output_type": "execute_result"
    }
   ],
   "source": [
    "sinasc['cat_APGAR1'].value_counts()"
   ]
  },
  {
   "cell_type": "markdown",
   "metadata": {},
   "source": [
    "**9) seu código aqui**"
   ]
  },
  {
   "cell_type": "code",
   "execution_count": 99,
   "metadata": {},
   "outputs": [],
   "source": [
    "sinasc.columns = ['origem', 'cod_estab', 'cod_mun_nasc', 'loc_nasc', 'idade_mae',\n",
    "                 'est_civ_mae', 'esc_mae', 'cod_ocup_mae', 'qtd_fil_vivo', 'qtd\\\n",
    "                 _fil_mort', 'cod_mun_res', 'gestacao', 'gravidez', 'parto', 'con\\\n",
    "                 sultas', 'dt_nasc', 'hora_nasc', 'sexo', 'apgar_1', 'apgar_5',\n",
    "                 'raca_cor', 'peso', 'id_anomal', 'dt_cadastro', 'cod_anomal',\n",
    "                 'numero_lote', 'versao_sist', 'dt_recebim', 'dif_data', 'dt_recori\\\n",
    "                 ga', 'natural_mae', 'cod_mun_natu', 'cod_uf_natu', 'esc_mae_2010',\n",
    "                 'series_c_mae', 'dt_nasc_mae', 'raca_cor_mae', 'qtd_gestant',\n",
    "                 'qtd_part_nor', 'qtd_part_ces', 'idade_pai', 'dt_ult_menst', 'sema\\\n",
    "                 _gestac', 'tpmestim', 'cons_prenat', 'tpa_present', 'st_trab_part',\n",
    "                 'st_ces_parto', 'tp_nasc_assi', 'tp_fun_cresp', 'tp_do_cresp', \n",
    "                 'dt_declarac', 'esc_mae_agr1', 'std_nepidem', 'std_n_nova', 'cod_pa\\\n",
    "                 is_res', 'tp_robson', 'par_idade', 'kotel_chuck', 'contador', 'mun_\\\n",
    "                 res_status', 'mun_res_tipo', 'mun_res_nome', 'mun_res_uf', 'mun_res_\\\n",
    "                 lat', 'mun_res_lon','mun_res_lon','mun_res_alt','mun_res_area','cat_\\\n",
    "                 apgar1']"
   ]
  },
  {
   "cell_type": "code",
   "execution_count": 100,
   "metadata": {},
   "outputs": [
    {
     "data": {
      "text/html": [
       "<div>\n",
       "<style scoped>\n",
       "    .dataframe tbody tr th:only-of-type {\n",
       "        vertical-align: middle;\n",
       "    }\n",
       "\n",
       "    .dataframe tbody tr th {\n",
       "        vertical-align: top;\n",
       "    }\n",
       "\n",
       "    .dataframe thead th {\n",
       "        text-align: right;\n",
       "    }\n",
       "</style>\n",
       "<table border=\"1\" class=\"dataframe\">\n",
       "  <thead>\n",
       "    <tr style=\"text-align: right;\">\n",
       "      <th></th>\n",
       "      <th>origem</th>\n",
       "      <th>cod_estab</th>\n",
       "      <th>cod_mun_nasc</th>\n",
       "      <th>loc_nasc</th>\n",
       "      <th>idade_mae</th>\n",
       "      <th>est_civ_mae</th>\n",
       "      <th>esc_mae</th>\n",
       "      <th>cod_ocup_mae</th>\n",
       "      <th>qtd_fil_vivo</th>\n",
       "      <th>qtd                 _fil_mort</th>\n",
       "      <th>...</th>\n",
       "      <th>mun_                 res_status</th>\n",
       "      <th>mun_res_tipo</th>\n",
       "      <th>mun_res_nome</th>\n",
       "      <th>mun_res_uf</th>\n",
       "      <th>mun_res_                 lat</th>\n",
       "      <th>mun_res_lon</th>\n",
       "      <th>mun_res_lon</th>\n",
       "      <th>mun_res_alt</th>\n",
       "      <th>mun_res_area</th>\n",
       "      <th>cat_                 apgar1</th>\n",
       "    </tr>\n",
       "  </thead>\n",
       "  <tbody>\n",
       "    <tr>\n",
       "      <th>0</th>\n",
       "      <td>1</td>\n",
       "      <td>2679477.0</td>\n",
       "      <td>110001</td>\n",
       "      <td>1</td>\n",
       "      <td>19</td>\n",
       "      <td>5.0</td>\n",
       "      <td>8 a 11 anos</td>\n",
       "      <td>NaN</td>\n",
       "      <td>0.0</td>\n",
       "      <td>0.0</td>\n",
       "      <td>...</td>\n",
       "      <td>1</td>\n",
       "      <td>ATIVO</td>\n",
       "      <td>MUNIC</td>\n",
       "      <td>Alta Floresta D'Oeste</td>\n",
       "      <td>Rondônia</td>\n",
       "      <td>-11.93554</td>\n",
       "      <td>-61.99982</td>\n",
       "      <td>338.0</td>\n",
       "      <td>7067.025</td>\n",
       "      <td>normal</td>\n",
       "    </tr>\n",
       "    <tr>\n",
       "      <th>1</th>\n",
       "      <td>1</td>\n",
       "      <td>2679477.0</td>\n",
       "      <td>110001</td>\n",
       "      <td>1</td>\n",
       "      <td>29</td>\n",
       "      <td>2.0</td>\n",
       "      <td>8 a 11 anos</td>\n",
       "      <td>999992.0</td>\n",
       "      <td>1.0</td>\n",
       "      <td>0.0</td>\n",
       "      <td>...</td>\n",
       "      <td>2</td>\n",
       "      <td>ATIVO</td>\n",
       "      <td>MUNIC</td>\n",
       "      <td>Alta Floresta D'Oeste</td>\n",
       "      <td>Rondônia</td>\n",
       "      <td>-11.93554</td>\n",
       "      <td>-61.99982</td>\n",
       "      <td>338.0</td>\n",
       "      <td>7067.025</td>\n",
       "      <td>normal</td>\n",
       "    </tr>\n",
       "    <tr>\n",
       "      <th>2</th>\n",
       "      <td>1</td>\n",
       "      <td>2679477.0</td>\n",
       "      <td>110001</td>\n",
       "      <td>1</td>\n",
       "      <td>37</td>\n",
       "      <td>9.0</td>\n",
       "      <td>8 a 11 anos</td>\n",
       "      <td>513205.0</td>\n",
       "      <td>2.0</td>\n",
       "      <td>0.0</td>\n",
       "      <td>...</td>\n",
       "      <td>3</td>\n",
       "      <td>ATIVO</td>\n",
       "      <td>MUNIC</td>\n",
       "      <td>Alta Floresta D'Oeste</td>\n",
       "      <td>Rondônia</td>\n",
       "      <td>-11.93554</td>\n",
       "      <td>-61.99982</td>\n",
       "      <td>338.0</td>\n",
       "      <td>7067.025</td>\n",
       "      <td>normal</td>\n",
       "    </tr>\n",
       "  </tbody>\n",
       "</table>\n",
       "<p>3 rows × 70 columns</p>\n",
       "</div>"
      ],
      "text/plain": [
       "   origem  cod_estab  cod_mun_nasc  loc_nasc  idade_mae  est_civ_mae  \\\n",
       "0       1  2679477.0        110001         1         19          5.0   \n",
       "1       1  2679477.0        110001         1         29          2.0   \n",
       "2       1  2679477.0        110001         1         37          9.0   \n",
       "\n",
       "       esc_mae  cod_ocup_mae  qtd_fil_vivo  qtd                 _fil_mort  \\\n",
       "0  8 a 11 anos           NaN           0.0                            0.0   \n",
       "1  8 a 11 anos      999992.0           1.0                            0.0   \n",
       "2  8 a 11 anos      513205.0           2.0                            0.0   \n",
       "\n",
       "   ...  mun_                 res_status mun_res_tipo mun_res_nome  \\\n",
       "0  ...                                1        ATIVO        MUNIC   \n",
       "1  ...                                2        ATIVO        MUNIC   \n",
       "2  ...                                3        ATIVO        MUNIC   \n",
       "\n",
       "              mun_res_uf  mun_res_                 lat  mun_res_lon  \\\n",
       "0  Alta Floresta D'Oeste                      Rondônia    -11.93554   \n",
       "1  Alta Floresta D'Oeste                      Rondônia    -11.93554   \n",
       "2  Alta Floresta D'Oeste                      Rondônia    -11.93554   \n",
       "\n",
       "   mun_res_lon mun_res_alt  mun_res_area  cat_                 apgar1  \n",
       "0    -61.99982       338.0      7067.025                       normal  \n",
       "1    -61.99982       338.0      7067.025                       normal  \n",
       "2    -61.99982       338.0      7067.025                       normal  \n",
       "\n",
       "[3 rows x 70 columns]"
      ]
     },
     "execution_count": 100,
     "metadata": {},
     "output_type": "execute_result"
    }
   ],
   "source": [
    "sinasc.head(3)"
   ]
  },
  {
   "cell_type": "code",
   "execution_count": null,
   "metadata": {},
   "outputs": [],
   "source": []
  }
 ],
 "metadata": {
  "kernelspec": {
   "display_name": "Python 3 (ipykernel)",
   "language": "python",
   "name": "python3"
  },
  "language_info": {
   "codemirror_mode": {
    "name": "ipython",
    "version": 3
   },
   "file_extension": ".py",
   "mimetype": "text/x-python",
   "name": "python",
   "nbconvert_exporter": "python",
   "pygments_lexer": "ipython3",
   "version": "3.9.7"
  }
 },
 "nbformat": 4,
 "nbformat_minor": 4
}
